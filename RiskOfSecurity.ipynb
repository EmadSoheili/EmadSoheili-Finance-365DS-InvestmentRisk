{
 "cells": [
  {
   "cell_type": "code",
   "execution_count": 5,
   "metadata": {
    "collapsed": true
   },
   "outputs": [],
   "source": [
    "# Import dependencies\n",
    "\n",
    "import numpy as np\n",
    "import pandas as pd\n",
    "from pandas_datareader import data as wb\n",
    "import matplotlib.pyplot as plt"
   ]
  },
  {
   "cell_type": "code",
   "execution_count": 6,
   "outputs": [
    {
     "data": {
      "text/plain": "                   PG     BEI.DE\nDate                            \n2007-01-03  40.582500  40.014122\n2007-01-04  40.274384  40.276852\n2007-01-05  39.928570  39.448856\n2007-01-08  40.016579  39.456825\n2007-01-09  39.915974  38.565144",
      "text/html": "<div>\n<style scoped>\n    .dataframe tbody tr th:only-of-type {\n        vertical-align: middle;\n    }\n\n    .dataframe tbody tr th {\n        vertical-align: top;\n    }\n\n    .dataframe thead th {\n        text-align: right;\n    }\n</style>\n<table border=\"1\" class=\"dataframe\">\n  <thead>\n    <tr style=\"text-align: right;\">\n      <th></th>\n      <th>PG</th>\n      <th>BEI.DE</th>\n    </tr>\n    <tr>\n      <th>Date</th>\n      <th></th>\n      <th></th>\n    </tr>\n  </thead>\n  <tbody>\n    <tr>\n      <th>2007-01-03</th>\n      <td>40.582500</td>\n      <td>40.014122</td>\n    </tr>\n    <tr>\n      <th>2007-01-04</th>\n      <td>40.274384</td>\n      <td>40.276852</td>\n    </tr>\n    <tr>\n      <th>2007-01-05</th>\n      <td>39.928570</td>\n      <td>39.448856</td>\n    </tr>\n    <tr>\n      <th>2007-01-08</th>\n      <td>40.016579</td>\n      <td>39.456825</td>\n    </tr>\n    <tr>\n      <th>2007-01-09</th>\n      <td>39.915974</td>\n      <td>38.565144</td>\n    </tr>\n  </tbody>\n</table>\n</div>"
     },
     "execution_count": 6,
     "metadata": {},
     "output_type": "execute_result"
    }
   ],
   "source": [
    "# Load data\n",
    "\n",
    "tickers = ['PG', 'BEI.DE']\n",
    "\n",
    "data = pd.DataFrame()\n",
    "\n",
    "for i in tickers:\n",
    "    data[i] = wb.DataReader(i, data_source='yahoo', start='2007-1-1')['Adj Close']\n",
    "data.head()"
   ],
   "metadata": {
    "collapsed": false
   }
  },
  {
   "cell_type": "code",
   "execution_count": 8,
   "outputs": [
    {
     "data": {
      "text/plain": "                  PG    BEI.DE\nDate                          \n2007-01-03       NaN       NaN\n2007-01-04 -0.007621  0.006544\n2007-01-05 -0.008624 -0.020772\n2007-01-08  0.002202  0.000202\n2007-01-09 -0.002517 -0.022858",
      "text/html": "<div>\n<style scoped>\n    .dataframe tbody tr th:only-of-type {\n        vertical-align: middle;\n    }\n\n    .dataframe tbody tr th {\n        vertical-align: top;\n    }\n\n    .dataframe thead th {\n        text-align: right;\n    }\n</style>\n<table border=\"1\" class=\"dataframe\">\n  <thead>\n    <tr style=\"text-align: right;\">\n      <th></th>\n      <th>PG</th>\n      <th>BEI.DE</th>\n    </tr>\n    <tr>\n      <th>Date</th>\n      <th></th>\n      <th></th>\n    </tr>\n  </thead>\n  <tbody>\n    <tr>\n      <th>2007-01-03</th>\n      <td>NaN</td>\n      <td>NaN</td>\n    </tr>\n    <tr>\n      <th>2007-01-04</th>\n      <td>-0.007621</td>\n      <td>0.006544</td>\n    </tr>\n    <tr>\n      <th>2007-01-05</th>\n      <td>-0.008624</td>\n      <td>-0.020772</td>\n    </tr>\n    <tr>\n      <th>2007-01-08</th>\n      <td>0.002202</td>\n      <td>0.000202</td>\n    </tr>\n    <tr>\n      <th>2007-01-09</th>\n      <td>-0.002517</td>\n      <td>-0.022858</td>\n    </tr>\n  </tbody>\n</table>\n</div>"
     },
     "execution_count": 8,
     "metadata": {},
     "output_type": "execute_result"
    }
   ],
   "source": [
    "# Calculate Log RoR\n",
    "\n",
    "log_return = np.log(data/data.shift(1))\n",
    "log_return.head()"
   ],
   "metadata": {
    "collapsed": false
   }
  },
  {
   "cell_type": "code",
   "execution_count": 10,
   "outputs": [
    {
     "data": {
      "text/plain": "0.07600173334225113"
     },
     "execution_count": 10,
     "metadata": {},
     "output_type": "execute_result"
    }
   ],
   "source": [
    "# Calculate RoR mean for PG\n",
    "\n",
    "log_return['PG'].mean() * 250"
   ],
   "metadata": {
    "collapsed": false
   }
  },
  {
   "cell_type": "code",
   "execution_count": 11,
   "outputs": [
    {
     "data": {
      "text/plain": "0.18783014012304325"
     },
     "execution_count": 11,
     "metadata": {},
     "output_type": "execute_result"
    }
   ],
   "source": [
    "# Calculate Standard Deviation for PG\n",
    "\n",
    "log_return['PG'].std() * 250**0.5"
   ],
   "metadata": {
    "collapsed": false
   }
  },
  {
   "cell_type": "code",
   "execution_count": 12,
   "outputs": [
    {
     "data": {
      "text/plain": "0.04919665282129629"
     },
     "execution_count": 12,
     "metadata": {},
     "output_type": "execute_result"
    }
   ],
   "source": [
    "# Calculate RoR mean for BEI.DE\n",
    "\n",
    "log_return['BEI.DE'].mean() * 250"
   ],
   "metadata": {
    "collapsed": false
   }
  },
  {
   "cell_type": "code",
   "execution_count": 13,
   "outputs": [
    {
     "data": {
      "text/plain": "0.21862312841828205"
     },
     "execution_count": 13,
     "metadata": {},
     "output_type": "execute_result"
    }
   ],
   "source": [
    "# Calculate Standard Deviation for BEI.DE\n",
    "\n",
    "log_return['BEI.DE'].std() * 250**0.5"
   ],
   "metadata": {
    "collapsed": false
   }
  },
  {
   "cell_type": "code",
   "execution_count": 19,
   "outputs": [
    {
     "data": {
      "text/plain": "PG        0.076002\nBEI.DE    0.049197\ndtype: float64"
     },
     "execution_count": 19,
     "metadata": {},
     "output_type": "execute_result"
    }
   ],
   "source": [
    "# Output the results\n",
    "\n",
    "log_return[['PG', 'BEI.DE']].mean() * 250"
   ],
   "metadata": {
    "collapsed": false
   }
  },
  {
   "cell_type": "code",
   "execution_count": 22,
   "outputs": [
    {
     "data": {
      "text/plain": "PG        0.187830\nBEI.DE    0.218623\ndtype: float64"
     },
     "execution_count": 22,
     "metadata": {},
     "output_type": "execute_result"
    }
   ],
   "source": [
    "log_return[['PG', 'BEI.DE']].std() * 250**0.5"
   ],
   "metadata": {
    "collapsed": false
   }
  }
 ],
 "metadata": {
  "kernelspec": {
   "name": "pythondata",
   "language": "python",
   "display_name": "PythonData"
  },
  "language_info": {
   "codemirror_mode": {
    "name": "ipython",
    "version": 2
   },
   "file_extension": ".py",
   "mimetype": "text/x-python",
   "name": "python",
   "nbconvert_exporter": "python",
   "pygments_lexer": "ipython2",
   "version": "2.7.6"
  }
 },
 "nbformat": 4,
 "nbformat_minor": 0
}
